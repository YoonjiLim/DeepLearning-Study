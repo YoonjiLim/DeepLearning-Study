{
 "cells": [
  {
   "cell_type": "code",
   "execution_count": 1,
   "id": "bf78f9e4",
   "metadata": {},
   "outputs": [],
   "source": [
    "import torch\n",
    "import torch.nn as nn\n",
    "import torch.optim as optim\n",
    "import torch.nn.functional as F\n",
    "from torchvision import transforms, datasets\n",
    "import matplotlib.pyplot as plt"
   ]
  },
  {
   "cell_type": "code",
   "execution_count": 13,
   "id": "365442e9",
   "metadata": {},
   "outputs": [],
   "source": [
    "DEVICE = torch.device(\"cpu\")\n",
    "EPOCHS = 25\n",
    "BATCH_SIZE = 64"
   ]
  },
  {
   "cell_type": "code",
   "execution_count": 14,
   "id": "e49b4133",
   "metadata": {},
   "outputs": [
    {
     "name": "stdout",
     "output_type": "stream",
     "text": [
      "Files already downloaded and verified\n"
     ]
    }
   ],
   "source": [
    "train_loader = torch.utils.data.DataLoader(\n",
    "    datasets.CIFAR100('./.data',train=True,download=True,\n",
    "                     transform=transforms.Compose([\n",
    "                         transforms.RandomCrop(32, padding=4),\n",
    "                         transforms.RandomHorizontalFlip(),\n",
    "                         transforms.RandomRotation(10),\n",
    "                         #데이터 증강 추가: RandomRotation(10도까지만 랜덤 회전)\n",
    "                         transforms.ColorJitter(brightness=0.1, contrast=0.1, saturation=0.1, hue=0.1),  \n",
    "                         # 색깔 변화: 0.1씩 작은 변화\n",
    "                         transforms.ToTensor(),transforms.Normalize((0.5, 0.5, 0.5),\n",
    "                                                                    (0.5, 0.5, 0.5))])),\n",
    "    batch_size=BATCH_SIZE, shuffle=True)\n",
    "\n",
    "test_loader = torch.utils.data.DataLoader(\n",
    "    datasets.CIFAR100('./.data',train=False,\n",
    "                     transform=transforms.Compose([\n",
    "                         transforms.ToTensor(),\n",
    "                         transforms.Normalize((0.5, 0.5, 0.5),\n",
    "                                              (0.5, 0.5, 0.5))])),\n",
    "    batch_size=BATCH_SIZE, shuffle=True)\n"
   ]
  },
  {
   "cell_type": "code",
   "execution_count": 15,
   "id": "a2043ff5",
   "metadata": {},
   "outputs": [],
   "source": [
    "class BasicBlock(nn.Module):\n",
    "    def __init__(self, in_planes, planes, stride=1):\n",
    "        super(BasicBlock, self).__init__()\n",
    "        self.conv1 = nn.Conv2d(in_planes, planes, kernel_size=3,\n",
    "                               stride=stride, padding=1, bias=False)\n",
    "        self.bn1 = nn.BatchNorm2d(planes)\n",
    "        self.conv2 = nn.Conv2d(planes, planes, kernel_size=3,\n",
    "                               stride=1, padding=1, bias=False)\n",
    "        self.bn2 = nn.BatchNorm2d(planes)\n",
    "        self.shortcut = nn.Sequential()\n",
    "        if stride != 1 or in_planes != planes:\n",
    "            self.shortcut = nn.Sequential(nn.Conv2d(in_planes, planes, kernel_size=1, stride=stride, bias=False),\n",
    "                                          nn.BatchNorm2d(planes)\n",
    ")\n",
    "    def forward(self, x):\n",
    "        out = F.relu(self.bn1(self.conv1(x)))\n",
    "        out = self.bn2(self.conv2(out))\n",
    "        out += self.shortcut(x)\n",
    "        out = F.relu(out)\n",
    "        return out\n"
   ]
  },
  {
   "cell_type": "code",
   "execution_count": 16,
   "id": "7467a3bd",
   "metadata": {},
   "outputs": [],
   "source": [
    "class CustomResNet(nn.Module):\n",
    "    def __init__(self, num_classes=10):\n",
    "        super(CustomResNet, self).__init__()\n",
    "        self.in_planes = 16\n",
    "        self.conv1 = nn.Conv2d(3, 16, kernel_size=3, stride=1, padding=1, bias=False)\n",
    "        self.bn1 = nn.BatchNorm2d(16)\n",
    "        #block 개수 증가 -> 레이어 많은 학습\n",
    "        self.layer1 = self._make_layer(16, 2, stride=1)\n",
    "        self.layer2 = self._make_layer(32, 3, stride=2)\n",
    "        self.layer3 = self._make_layer(64, 4, stride=2)\n",
    "        self.linear = nn.Linear(64, 100)\n",
    "    def _make_layer(self, planes, num_blocks, stride):\n",
    "        strides = [stride] + [1]*(num_blocks-1)\n",
    "        layers = []\n",
    "        for stride in strides:\n",
    "            layers.append(BasicBlock(self.in_planes, planes, stride))\n",
    "            self.in_planes = planes\n",
    "        return nn.Sequential(*layers)\n",
    "    def forward(self, x):\n",
    "        out = F.relu(self.bn1(self.conv1(x)))\n",
    "        out = self.layer1(out)\n",
    "        out = self.layer2(out)\n",
    "        out = self.layer3(out)\n",
    "        out = F.avg_pool2d(out, 8)\n",
    "        out = out.view(out.size(0), -1)\n",
    "        out = self.linear(out)\n",
    "        return out\n"
   ]
  },
  {
   "cell_type": "code",
   "execution_count": 17,
   "id": "6befc60a",
   "metadata": {},
   "outputs": [],
   "source": [
    "model = CustomResNet()\n",
    "optimizer = optim.SGD(model.parameters(), lr=0.1, momentum=0.9, weight_decay=0.0005)\n",
    "scheduler = optim.lr_scheduler.StepLR(optimizer, step_size=50, gamma=0.1)\n"
   ]
  },
  {
   "cell_type": "code",
   "execution_count": 18,
   "id": "429c8929",
   "metadata": {},
   "outputs": [],
   "source": [
    "train_losses = []\n",
    "test_losses = []\n",
    "\n",
    "def train(model, train_loader, optimizer):\n",
    "    model.train()\n",
    "    total_loss=0\n",
    "    for batch_idx, (data, target) in enumerate(train_loader):\n",
    "        data, target = data.to('cpu'), target.to('cpu') \n",
    "        optimizer.zero_grad()\n",
    "        output = model(data)\n",
    "        loss = F.cross_entropy(output, target)\n",
    "        loss.backward()\n",
    "        optimizer.step()\n",
    "        total_loss += loss.item()\n",
    "        \n",
    "    avg_loss = total_loss / len(train_loader)\n",
    "    train_losses.append(avg_loss)\n",
    "    "
   ]
  },
  {
   "cell_type": "code",
   "execution_count": 19,
   "id": "9460b3ea",
   "metadata": {},
   "outputs": [],
   "source": [
    "def evaluate(model, test_loader):\n",
    "    model.eval()\n",
    "    test_loss = 0\n",
    "    correct = 0\n",
    "    with torch.no_grad():\n",
    "        for data, target in test_loader:\n",
    "            data, target = data.to('cpu'), target.to('cpu')\n",
    "            output = model(data)\n",
    "            test_loss += F.cross_entropy(output, target, reduction='sum').item()\n",
    "            pred = output.max(1, keepdim=True)[1]\n",
    "            correct += pred.eq(target.view_as(pred)).sum().item()\n",
    "    test_loss /= len(test_loader.dataset)\n",
    "    test_accuracy = 100. * correct / len(test_loader.dataset)\n",
    "    test_losses.append(test_loss)\n",
    "    return test_loss, test_accuracy\n"
   ]
  },
  {
   "cell_type": "code",
   "execution_count": 20,
   "id": "c84d987e",
   "metadata": {},
   "outputs": [
    {
     "name": "stdout",
     "output_type": "stream",
     "text": [
      "[1] Test Loss: 3.8157, Accuracy: 10.78%\n",
      "[2] Test Loss: 3.4430, Accuracy: 16.96%\n",
      "[3] Test Loss: 3.2853, Accuracy: 20.45%\n",
      "[4] Test Loss: 2.8687, Accuracy: 27.85%\n",
      "[5] Test Loss: 2.8283, Accuracy: 28.64%\n",
      "[6] Test Loss: 2.7554, Accuracy: 31.06%\n",
      "[7] Test Loss: 3.1553, Accuracy: 27.79%\n",
      "[8] Test Loss: 2.4824, Accuracy: 35.96%\n",
      "[9] Test Loss: 2.6863, Accuracy: 34.13%\n",
      "[10] Test Loss: 2.6397, Accuracy: 35.17%\n",
      "[11] Test Loss: 2.6931, Accuracy: 33.59%\n",
      "[12] Test Loss: 2.7181, Accuracy: 34.85%\n",
      "[13] Test Loss: 2.4329, Accuracy: 37.09%\n",
      "[14] Test Loss: 2.7353, Accuracy: 33.85%\n",
      "[15] Test Loss: 2.5584, Accuracy: 37.95%\n",
      "[16] Test Loss: 3.6502, Accuracy: 28.14%\n",
      "[17] Test Loss: 2.3996, Accuracy: 39.10%\n",
      "[18] Test Loss: 2.5533, Accuracy: 36.86%\n",
      "[19] Test Loss: 2.6448, Accuracy: 35.91%\n",
      "[20] Test Loss: 2.2929, Accuracy: 41.13%\n",
      "[21] Test Loss: 2.5699, Accuracy: 36.28%\n",
      "[22] Test Loss: 2.3544, Accuracy: 40.33%\n",
      "[23] Test Loss: 2.3648, Accuracy: 38.85%\n",
      "[24] Test Loss: 2.2474, Accuracy: 41.88%\n",
      "[25] Test Loss: 2.4232, Accuracy: 37.85%\n"
     ]
    },
    {
     "data": {
      "image/png": "[encoded data removed]",
      "text/plain": [
       "<Figure size 640x480 with 1 Axes>"
      ]
     },
     "metadata": {},
     "output_type": "display_data"
    }
   ],
   "source": [
    "for epoch in range(1, EPOCHS + 1):\n",
    "    train(model, train_loader, optimizer)\n",
    "    test_loss, test_accuracy = evaluate(model, test_loader)\n",
    "    scheduler.step()\n",
    "    print('[{}] Test Loss: {:.4f}, A ccuracy: {:.2f}%'.format(epoch, test_loss, test_accuracy))\n",
    "    \n",
    "plt.plot(range(1, len(train_losses) + 1), train_losses, label='Training Loss')\n",
    "plt.plot(range(1, len(test_losses) + 1), test_losses, label='Test Loss')\n",
    "plt.xlabel('Epochs')\n",
    "plt.ylabel('Loss')\n",
    "plt.legend()\n",
    "plt.title('Training and Test Losses')\n",
    "plt.show()"
   ]
  },
  {
   "cell_type": "code",
   "execution_count": 21,
   "id": "5ac6f62c",
   "metadata": {},
   "outputs": [],
   "source": [
    "PATH = 'model_customresnet.pth'\n",
    "torch.save(model, PATH)"
   ]
  },
  {
   "cell_type": "code",
   "execution_count": null,
   "id": "b7a4208a",
   "metadata": {},
   "outputs": [],
   "source": []
  }
 ],
 "metadata": {
  "kernelspec": {
   "display_name": "Python 3 (ipykernel)",
   "language": "python",
   "name": "python3"
  },
  "language_info": {
   "codemirror_mode": {
    "name": "ipython",
    "version": 3
   },
   "file_extension": ".py",
   "mimetype": "text/x-python",
   "name": "python",
   "nbconvert_exporter": "python",
   "pygments_lexer": "ipython3",
   "version": "3.11.5"
  }
 },
 "nbformat": 4,
 "nbformat_minor": 5
}
