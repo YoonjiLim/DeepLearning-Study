{
 "cells": [
  {
   "cell_type": "code",
   "execution_count": 1,
   "id": "252fc397",
   "metadata": {},
   "outputs": [],
   "source": [
    "import torch\n",
    "import torch.nn as nn\n",
    "import torch.optim as optim\n",
    "import torch.nn.functional as F\n",
    "from torchvision import transforms, datasets\n",
    "import matplotlib.pyplot as plt"
   ]
  },
  {
   "cell_type": "code",
   "execution_count": 2,
   "id": "e8b959ce",
   "metadata": {},
   "outputs": [],
   "source": [
    "DEVICE = torch.device(\"cpu\")"
   ]
  },
  {
   "cell_type": "code",
   "execution_count": 3,
   "id": "2a92d998",
   "metadata": {},
   "outputs": [],
   "source": [
    "EPOCHS = 50\n",
    "BATCH_SIZE = 32\n",
    "#bs: 크면 메모리 많이 필요, 작으면 많은 반복과 느린 훈련 but 더 나은 일반화"
   ]
  },
  {
   "cell_type": "code",
   "execution_count": 4,
   "id": "b214b56a",
   "metadata": {
    "scrolled": true
   },
   "outputs": [
    {
     "name": "stdout",
     "output_type": "stream",
     "text": [
      "Files already downloaded and verified\n"
     ]
    }
   ],
   "source": [
    "\n",
    "train_loader = torch.utils.data.DataLoader(\n",
    "    datasets.CIFAR100('./.data',train=True,download=True,\n",
    "                     transform=transforms.Compose([\n",
    "                         transforms.RandomCrop(32, padding=4),transforms.RandomHorizontalFlip(),\n",
    "                         transforms.ToTensor(),transforms.Normalize((0.5, 0.5, 0.5),\n",
    "                                                                    (0.5, 0.5, 0.5))])),\n",
    "    batch_size=BATCH_SIZE, shuffle=True)\n",
    "\n",
    "test_loader = torch.utils.data.DataLoader(\n",
    "    datasets.CIFAR100('./.data',train=False,\n",
    "                     transform=transforms.Compose([\n",
    "                         transforms.ToTensor(),\n",
    "                         transforms.Normalize((0.5, 0.5, 0.5),\n",
    "                                              (0.5, 0.5, 0.5))])),\n",
    "    batch_size=BATCH_SIZE, shuffle=True)\n"
   ]
  },
  {
   "cell_type": "code",
   "execution_count": 7,
   "id": "7cd8741e",
   "metadata": {},
   "outputs": [],
   "source": [
    "class DNN(nn.Module): #CIFAR100 데이터셋에 맞게 수정\n",
    "    def __init__(self):\n",
    "        super(DNN, self).__init__()\n",
    "        self.fc1 = nn.Linear(32 * 32 * 3, 512)\n",
    "        self.fc2 = nn.Linear(512, 256)\n",
    "        self.fc3 = nn.Linear(256, 100)\n",
    "        \n",
    "    def forward(self, x):\n",
    "        x = x.view(-1, 32 * 32 * 3)\n",
    "        x = F.relu(self.fc1(x))\n",
    "        x = F.relu(self.fc2(x))\n",
    "        x = self.fc3(x)\n",
    "        return x"
   ]
  },
  {
   "cell_type": "code",
   "execution_count": 8,
   "id": "5393a358",
   "metadata": {},
   "outputs": [],
   "source": [
    "model = DNN() #CPU 사용\n",
    "optimizer = optim.SGD(model.parameters(), lr=0.001)\n",
    "#학습을 느리게 하지 않기 위해 학습률 변경 x.  "
   ]
  },
  {
   "cell_type": "code",
   "execution_count": 9,
   "id": "21a8496d",
   "metadata": {},
   "outputs": [],
   "source": [
    "train_losses = []\n",
    "test_losses = []\n",
    "\n",
    "def train(model, train_loader, optimizer):\n",
    "    model.train()\n",
    "    total_loss=0\n",
    "    for batch_idx, (data, target) in enumerate(train_loader):\n",
    "        data, target = data.to('cpu'), target.to('cpu') #CPU 학습\n",
    "        optimizer.zero_grad()\n",
    "        output = model(data)\n",
    "        loss = F.cross_entropy(output, target)\n",
    "        loss.backward()\n",
    "        optimizer.step()\n",
    "        total_loss += loss.item()\n",
    "\n",
    "    avg_loss = total_loss / len(train_loader)\n",
    "    train_losses.append(avg_loss)\n",
    "    "
   ]
  },
  {
   "cell_type": "code",
   "execution_count": 10,
   "id": "583ac1e8",
   "metadata": {},
   "outputs": [],
   "source": [
    "def evaluate(model, test_loader):\n",
    "    model.eval()\n",
    "    test_loss = 0\n",
    "    correct = 0\n",
    "    with torch.no_grad():\n",
    "        for data, target in test_loader:\n",
    "            data, target = data.to('cpu'), target.to('cpu')\n",
    "            output = model(data)\n",
    "# 모든 오차 더하기\n",
    "            test_loss += F.cross_entropy(output, target, reduction='sum').item()\n",
    "# 가장 큰 값을 가진 클래스가 모델의 예측입니다.\n",
    "# 예측과 정답을 비교하여 일치할 경우 correct에 1을 더합니다.\n",
    "            pred = output.max(1, keepdim=True)[1]\n",
    "            correct += pred.eq(target.view_as(pred)).sum().item()\n",
    "    test_loss /= len(test_loader.dataset)\n",
    "    test_accuracy = 100. * correct / len(test_loader.dataset)\n",
    "    test_losses.append(test_loss)\n",
    "    return test_loss, test_accuracy\n"
   ]
  },
  {
   "cell_type": "code",
   "execution_count": 11,
   "id": "1b8e776e",
   "metadata": {},
   "outputs": [
    {
     "name": "stdout",
     "output_type": "stream",
     "text": [
      "[1] Test Loss: 4.5910, Accuracy: 2.47%\n",
      "[2] Test Loss: 4.5723, Accuracy: 3.85%\n",
      "[3] Test Loss: 4.5452, Accuracy: 4.43%\n",
      "[4] Test Loss: 4.5034, Accuracy: 4.73%\n",
      "[5] Test Loss: 4.4423, Accuracy: 4.63%\n",
      "[6] Test Loss: 4.3652, Accuracy: 5.23%\n",
      "[7] Test Loss: 4.2912, Accuracy: 5.61%\n",
      "[8] Test Loss: 4.2310, Accuracy: 6.14%\n",
      "[9] Test Loss: 4.1829, Accuracy: 6.68%\n",
      "[10] Test Loss: 4.1475, Accuracy: 7.04%\n",
      "[11] Test Loss: 4.1192, Accuracy: 7.36%\n",
      "[12] Test Loss: 4.0940, Accuracy: 7.82%\n",
      "[13] Test Loss: 4.0716, Accuracy: 8.35%\n",
      "[14] Test Loss: 4.0542, Accuracy: 8.52%\n",
      "[15] Test Loss: 4.0368, Accuracy: 8.78%\n",
      "[16] Test Loss: 4.0167, Accuracy: 8.98%\n",
      "[17] Test Loss: 4.0000, Accuracy: 9.12%\n",
      "[18] Test Loss: 3.9825, Accuracy: 9.57%\n",
      "[19] Test Loss: 3.9686, Accuracy: 9.40%\n",
      "[20] Test Loss: 3.9510, Accuracy: 9.85%\n",
      "[21] Test Loss: 3.9387, Accuracy: 9.78%\n",
      "[22] Test Loss: 3.9214, Accuracy: 10.09%\n",
      "[23] Test Loss: 3.9091, Accuracy: 10.41%\n",
      "[24] Test Loss: 3.8969, Accuracy: 10.55%\n",
      "[25] Test Loss: 3.8860, Accuracy: 10.48%\n",
      "[26] Test Loss: 3.8741, Accuracy: 10.82%\n",
      "[27] Test Loss: 3.8621, Accuracy: 11.20%\n",
      "[28] Test Loss: 3.8492, Accuracy: 11.28%\n",
      "[29] Test Loss: 3.8389, Accuracy: 11.48%\n",
      "[30] Test Loss: 3.8296, Accuracy: 11.65%\n",
      "[31] Test Loss: 3.8205, Accuracy: 11.77%\n",
      "[32] Test Loss: 3.8089, Accuracy: 12.35%\n",
      "[33] Test Loss: 3.8018, Accuracy: 12.15%\n",
      "[34] Test Loss: 3.7949, Accuracy: 12.37%\n",
      "[35] Test Loss: 3.7849, Accuracy: 12.48%\n",
      "[36] Test Loss: 3.7738, Accuracy: 12.86%\n",
      "[37] Test Loss: 3.7658, Accuracy: 13.22%\n",
      "[38] Test Loss: 3.7609, Accuracy: 13.30%\n",
      "[39] Test Loss: 3.7533, Accuracy: 13.52%\n",
      "[40] Test Loss: 3.7464, Accuracy: 13.68%\n",
      "[41] Test Loss: 3.7401, Accuracy: 13.57%\n",
      "[42] Test Loss: 3.7305, Accuracy: 13.94%\n",
      "[43] Test Loss: 3.7249, Accuracy: 14.09%\n",
      "[44] Test Loss: 3.7146, Accuracy: 14.44%\n",
      "[45] Test Loss: 3.7080, Accuracy: 14.42%\n",
      "[46] Test Loss: 3.7018, Accuracy: 14.83%\n",
      "[47] Test Loss: 3.6962, Accuracy: 14.74%\n",
      "[48] Test Loss: 3.6907, Accuracy: 14.65%\n",
      "[49] Test Loss: 3.6899, Accuracy: 14.97%\n",
      "[50] Test Loss: 3.6788, Accuracy: 14.82%\n"
     ]
    },
    {
     "data": {
      "image/png": "[encoded data removed]",
      "text/plain": [
       "<Figure size 640x480 with 1 Axes>"
      ]
     },
     "metadata": {},
     "output_type": "display_data"
    }
   ],
   "source": [
    "for epoch in range(1, EPOCHS + 1):\n",
    "    train(model, train_loader, optimizer)\n",
    "    test_loss, test_accuracy = evaluate(model, test_loader)\n",
    "    \n",
    "    print('[{}] Test Loss: {:.4f}, Accuracy: {:.2f}%'.format(\n",
    "        epoch, test_loss, test_accuracy))\n",
    "    \n",
    "plt.plot(range(1, len(train_losses) + 1), train_losses, label='Training Loss')\n",
    "plt.plot(range(1, len(test_losses) + 1), test_losses, label='Test Loss')\n",
    "plt.xlabel('Epochs')\n",
    "plt.ylabel('Loss')\n",
    "plt.legend()\n",
    "plt.title('Training and Test Losses')\n",
    "plt.show()    \n",
    "#TypeError: train() takes 3 positional arguments but 4 were given "
   ]
  },
  {
   "cell_type": "code",
   "execution_count": 12,
   "id": "362bc2ec",
   "metadata": {},
   "outputs": [],
   "source": [
    "#모델 전체 저장(https://tutorials.pytorch.kr/recipes/recipes/saving_and_loading_models_for_inference.html)\n",
    "PATH = 'model_dnn.pth'\n",
    "torch.save(model, PATH)\n",
    "\n",
    "#model = torch.load(PATH)\n",
    "#model.eval()"
   ]
  },
  {
   "cell_type": "code",
   "execution_count": null,
   "id": "35360066",
   "metadata": {},
   "outputs": [],
   "source": []
  }
 ],
 "metadata": {
  "kernelspec": {
   "display_name": "Python 3 (ipykernel)",
   "language": "python",
   "name": "python3"
  },
  "language_info": {
   "codemirror_mode": {
    "name": "ipython",
    "version": 3
   },
   "file_extension": ".py",
   "mimetype": "text/x-python",
   "name": "python",
   "nbconvert_exporter": "python",
   "pygments_lexer": "ipython3",
   "version": "3.11.5"
  }
 },
 "nbformat": 4,
 "nbformat_minor": 5
}
