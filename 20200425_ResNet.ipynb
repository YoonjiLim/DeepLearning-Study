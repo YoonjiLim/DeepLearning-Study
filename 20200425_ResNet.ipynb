{
 "cells": [
  {
   "cell_type": "code",
   "execution_count": 1,
   "id": "412b3d3f",
   "metadata": {},
   "outputs": [],
   "source": [
    "import torch\n",
    "import torch.nn as nn\n",
    "import torch.optim as optim\n",
    "import torch.nn.functional as F\n",
    "from torchvision import transforms, datasets\n",
    "import matplotlib.pyplot as plt"
   ]
  },
  {
   "cell_type": "code",
   "execution_count": 2,
   "id": "3a1252c3",
   "metadata": {},
   "outputs": [],
   "source": [
    "DEVICE = torch.device(\"cpu\")\n",
    "EPOCHS = 50\n",
    "BATCH_SIZE = 64"
   ]
  },
  {
   "cell_type": "code",
   "execution_count": 3,
   "id": "482a68bf",
   "metadata": {},
   "outputs": [
    {
     "name": "stdout",
     "output_type": "stream",
     "text": [
      "Files already downloaded and verified\n"
     ]
    }
   ],
   "source": [
    "train_loader = torch.utils.data.DataLoader(\n",
    "    datasets.CIFAR100('./.data',train=True,download=True,\n",
    "                     transform=transforms.Compose([\n",
    "                         transforms.RandomCrop(32, padding=4),transforms.RandomHorizontalFlip(),\n",
    "                         transforms.ToTensor(),transforms.Normalize((0.5, 0.5, 0.5),\n",
    "                                                                    (0.5, 0.5, 0.5))])),\n",
    "    batch_size=BATCH_SIZE, shuffle=True)\n",
    "\n",
    "test_loader = torch.utils.data.DataLoader(\n",
    "    datasets.CIFAR100('./.data',train=False,\n",
    "                     transform=transforms.Compose([\n",
    "                         transforms.ToTensor(),\n",
    "                         transforms.Normalize((0.5, 0.5, 0.5),\n",
    "                                              (0.5, 0.5, 0.5))])),\n",
    "    batch_size=BATCH_SIZE, shuffle=True)\n"
   ]
  },
  {
   "cell_type": "code",
   "execution_count": 4,
   "id": "79680a98",
   "metadata": {},
   "outputs": [],
   "source": [
    "class BasicBlock(nn.Module):\n",
    "    def __init__(self, in_planes, planes, stride=1):\n",
    "        super(BasicBlock, self).__init__()\n",
    "        self.conv1 = nn.Conv2d(in_planes, planes, kernel_size=3,\n",
    "                               stride=stride, padding=1, bias=False)\n",
    "        self.bn1 = nn.BatchNorm2d(planes)\n",
    "        self.conv2 = nn.Conv2d(planes, planes, kernel_size=3,\n",
    "                               stride=1, padding=1, bias=False)\n",
    "        self.bn2 = nn.BatchNorm2d(planes)\n",
    "        self.shortcut = nn.Sequential()\n",
    "        if stride != 1 or in_planes != planes:\n",
    "            self.shortcut = nn.Sequential(nn.Conv2d(in_planes, planes, kernel_size=1, stride=stride, bias=False),\n",
    "                                          nn.BatchNorm2d(planes)\n",
    ")\n",
    "    def forward(self, x):\n",
    "        out = F.relu(self.bn1(self.conv1(x)))\n",
    "        out = self.bn2(self.conv2(out))\n",
    "        out += self.shortcut(x)\n",
    "        out = F.relu(out)\n",
    "        return out\n"
   ]
  },
  {
   "cell_type": "code",
   "execution_count": 5,
   "id": "845f3475",
   "metadata": {},
   "outputs": [],
   "source": [
    "class ResNet(nn.Module):\n",
    "    def __init__(self, num_classes=10):\n",
    "        super(ResNet, self).__init__()\n",
    "        self.in_planes = 16\n",
    "        self.conv1 = nn.Conv2d(3, 16, kernel_size=3, stride=1, padding=1, bias=False)\n",
    "        self.bn1 = nn.BatchNorm2d(16)\n",
    "        self.layer1 = self._make_layer(16, 2, stride=1)\n",
    "        self.layer2 = self._make_layer(32, 2, stride=2)\n",
    "        self.layer3 = self._make_layer(64, 2, stride=2)\n",
    "        self.linear = nn.Linear(64, 100)\n",
    "    def _make_layer(self, planes, num_blocks, stride):\n",
    "        strides = [stride] + [1]*(num_blocks-1)\n",
    "        layers = []\n",
    "        for stride in strides:\n",
    "            layers.append(BasicBlock(self.in_planes, planes, stride))\n",
    "            self.in_planes = planes\n",
    "        return nn.Sequential(*layers)\n",
    "    def forward(self, x):\n",
    "        out = F.relu(self.bn1(self.conv1(x)))\n",
    "        out = self.layer1(out)\n",
    "        out = self.layer2(out)\n",
    "        out = self.layer3(out)\n",
    "        out = F.avg_pool2d(out, 8)\n",
    "        out = out.view(out.size(0), -1)\n",
    "        out = self.linear(out)\n",
    "        return out\n"
   ]
  },
  {
   "cell_type": "code",
   "execution_count": 6,
   "id": "9fce55fc",
   "metadata": {},
   "outputs": [],
   "source": [
    "model = ResNet()\n",
    "optimizer = optim.SGD(model.parameters(), lr=0.1, momentum=0.9, weight_decay=0.0005)\n",
    "scheduler = optim.lr_scheduler.StepLR(optimizer, step_size=50, gamma=0.1)\n"
   ]
  },
  {
   "cell_type": "code",
   "execution_count": 7,
   "id": "1c6ed617",
   "metadata": {},
   "outputs": [],
   "source": [
    "train_losses = []\n",
    "test_losses = []\n",
    "\n",
    "def train(model, train_loader, optimizer):\n",
    "    model.train()\n",
    "    total_loss=0\n",
    "    for batch_idx, (data, target) in enumerate(train_loader):\n",
    "        data, target = data.to('cpu'), target.to('cpu') \n",
    "        optimizer.zero_grad()\n",
    "        output = model(data)\n",
    "        loss = F.cross_entropy(output, target)\n",
    "        loss.backward()\n",
    "        optimizer.step()\n",
    "        total_loss += loss.item()\n",
    "        \n",
    "    avg_loss = total_loss / len(train_loader)\n",
    "    train_losses.append(avg_loss)\n",
    "    "
   ]
  },
  {
   "cell_type": "code",
   "execution_count": 8,
   "id": "02d75edd",
   "metadata": {},
   "outputs": [],
   "source": [
    "def evaluate(model, test_loader):\n",
    "    model.eval()\n",
    "    test_loss = 0\n",
    "    correct = 0\n",
    "    with torch.no_grad():\n",
    "        for data, target in test_loader:\n",
    "            data, target = data.to('cpu'), target.to('cpu')\n",
    "            output = model(data)\n",
    "            test_loss += F.cross_entropy(output, target, reduction='sum').item()\n",
    "            pred = output.max(1, keepdim=True)[1]\n",
    "            correct += pred.eq(target.view_as(pred)).sum().item()\n",
    "    test_loss /= len(test_loader.dataset)\n",
    "    test_accuracy = 100. * correct / len(test_loader.dataset)\n",
    "    test_losses.append(test_loss)\n",
    "    return test_loss, test_accuracy\n"
   ]
  },
  {
   "cell_type": "code",
   "execution_count": 9,
   "id": "6c12226d",
   "metadata": {
    "scrolled": true
   },
   "outputs": [
    {
     "name": "stdout",
     "output_type": "stream",
     "text": [
      "[1] Test Loss: 3.7991, Accuracy: 11.18%\n",
      "[2] Test Loss: 3.5501, Accuracy: 16.80%\n",
      "[3] Test Loss: 3.2292, Accuracy: 22.17%\n",
      "[4] Test Loss: 3.0856, Accuracy: 25.25%\n",
      "[5] Test Loss: 3.0471, Accuracy: 26.13%\n",
      "[6] Test Loss: 2.9003, Accuracy: 29.82%\n",
      "[7] Test Loss: 2.7926, Accuracy: 30.36%\n",
      "[8] Test Loss: 2.6030, Accuracy: 34.80%\n",
      "[9] Test Loss: 2.6154, Accuracy: 35.32%\n",
      "[10] Test Loss: 2.4038, Accuracy: 37.79%\n",
      "[11] Test Loss: 2.1940, Accuracy: 41.66%\n",
      "[12] Test Loss: 2.7504, Accuracy: 35.83%\n",
      "[13] Test Loss: 2.5611, Accuracy: 36.60%\n",
      "[14] Test Loss: 2.8064, Accuracy: 35.69%\n",
      "[15] Test Loss: 2.7117, Accuracy: 34.08%\n",
      "[16] Test Loss: 2.5388, Accuracy: 36.98%\n",
      "[17] Test Loss: 2.5835, Accuracy: 37.47%\n",
      "[18] Test Loss: 2.4575, Accuracy: 37.56%\n",
      "[19] Test Loss: 2.2355, Accuracy: 41.19%\n",
      "[20] Test Loss: 2.3544, Accuracy: 39.41%\n",
      "[21] Test Loss: 2.4012, Accuracy: 38.25%\n",
      "[22] Test Loss: 2.3119, Accuracy: 39.75%\n",
      "[23] Test Loss: 2.4282, Accuracy: 39.65%\n",
      "[24] Test Loss: 2.4098, Accuracy: 39.33%\n",
      "[25] Test Loss: 2.3773, Accuracy: 37.89%\n",
      "[26] Test Loss: 2.4378, Accuracy: 37.85%\n",
      "[27] Test Loss: 2.0945, Accuracy: 44.79%\n",
      "[28] Test Loss: 2.4323, Accuracy: 38.74%\n",
      "[29] Test Loss: 2.7559, Accuracy: 34.82%\n",
      "[30] Test Loss: 2.7040, Accuracy: 35.54%\n",
      "[31] Test Loss: 2.0994, Accuracy: 43.70%\n",
      "[32] Test Loss: 2.3879, Accuracy: 38.43%\n",
      "[33] Test Loss: 2.2875, Accuracy: 40.70%\n",
      "[34] Test Loss: 2.5107, Accuracy: 37.28%\n",
      "[35] Test Loss: 2.8031, Accuracy: 33.86%\n",
      "[36] Test Loss: 2.5852, Accuracy: 36.95%\n",
      "[37] Test Loss: 2.3340, Accuracy: 39.84%\n",
      "[38] Test Loss: 2.6655, Accuracy: 35.96%\n",
      "[39] Test Loss: 2.5857, Accuracy: 37.84%\n",
      "[40] Test Loss: 2.7065, Accuracy: 36.60%\n",
      "[41] Test Loss: 2.3236, Accuracy: 40.99%\n",
      "[42] Test Loss: 2.1398, Accuracy: 44.30%\n",
      "[43] Test Loss: 2.4427, Accuracy: 38.77%\n",
      "[44] Test Loss: 2.6123, Accuracy: 36.44%\n",
      "[45] Test Loss: 2.3414, Accuracy: 40.41%\n",
      "[46] Test Loss: 2.2058, Accuracy: 42.33%\n",
      "[47] Test Loss: 2.6124, Accuracy: 37.18%\n",
      "[48] Test Loss: 2.1725, Accuracy: 42.76%\n",
      "[49] Test Loss: 2.1904, Accuracy: 42.17%\n",
      "[50] Test Loss: 2.2906, Accuracy: 41.45%\n"
     ]
    },
    {
     "data": {
      "image/png": "[encoded data removed]",
      "text/plain": [
       "<Figure size 640x480 with 1 Axes>"
      ]
     },
     "metadata": {},
     "output_type": "display_data"
    }
   ],
   "source": [
    "for epoch in range(1, EPOCHS + 1):\n",
    "    train(model, train_loader, optimizer)\n",
    "    test_loss, test_accuracy = evaluate(model, test_loader)\n",
    "    scheduler.step()\n",
    "    print('[{}] Test Loss: {:.4f}, Accuracy: {:.2f}%'.format(epoch, test_loss, test_accuracy))\n",
    "    \n",
    "plt.plot(range(1, len(train_losses) + 1), train_losses, label='Training Loss')\n",
    "plt.plot(range(1, len(test_losses) + 1), test_losses, label='Test Loss')\n",
    "plt.xlabel('Epochs')\n",
    "plt.ylabel('Loss')\n",
    "plt.legend()\n",
    "plt.title('Training and Test Losses')\n",
    "plt.show()"
   ]
  },
  {
   "cell_type": "code",
   "execution_count": 10,
   "id": "762457b6",
   "metadata": {},
   "outputs": [],
   "source": [
    "PATH = 'model_resnet.pth'\n",
    "torch.save(model, PATH)"
   ]
  },
  {
   "cell_type": "code",
   "execution_count": null,
   "id": "2b301e5f",
   "metadata": {},
   "outputs": [],
   "source": []
  }
 ],
 "metadata": {
  "kernelspec": {
   "display_name": "Python 3 (ipykernel)",
   "language": "python",
   "name": "python3"
  },
  "language_info": {
   "codemirror_mode": {
    "name": "ipython",
    "version": 3
   },
   "file_extension": ".py",
   "mimetype": "text/x-python",
   "name": "python",
   "nbconvert_exporter": "python",
   "pygments_lexer": "ipython3",
   "version": "3.11.5"
  }
 },
 "nbformat": 4,
 "nbformat_minor": 5
}
